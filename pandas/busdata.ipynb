{
 "cells": [
  {
   "cell_type": "code",
   "execution_count": 11,
   "metadata": {
    "colab": {
     "base_uri": "https://localhost:8080/"
    },
    "id": "HnE3fjca3_sV",
    "outputId": "482246c6-e499-4974-d8d5-aebeef2852ad"
   },
   "outputs": [
    {
     "ename": "ModuleNotFoundError",
     "evalue": "No module named 'google'",
     "output_type": "error",
     "traceback": [
      "\u001b[1;31m---------------------------------------------------------------------------\u001b[0m",
      "\u001b[1;31mModuleNotFoundError\u001b[0m                       Traceback (most recent call last)",
      "\u001b[1;32m<ipython-input-11-7dfea6c5efc8>\u001b[0m in \u001b[0;36m<module>\u001b[1;34m\u001b[0m\n\u001b[0;32m      1\u001b[0m \u001b[1;32mimport\u001b[0m \u001b[0mpandas\u001b[0m \u001b[1;32mas\u001b[0m \u001b[0mpd\u001b[0m\u001b[1;33m\u001b[0m\u001b[1;33m\u001b[0m\u001b[0m\n\u001b[0;32m      2\u001b[0m \u001b[1;32mimport\u001b[0m \u001b[0mnumpy\u001b[0m \u001b[1;32mas\u001b[0m \u001b[0mnp\u001b[0m\u001b[1;33m\u001b[0m\u001b[1;33m\u001b[0m\u001b[0m\n\u001b[1;32m----> 3\u001b[1;33m \u001b[1;32mfrom\u001b[0m \u001b[0mgoogle\u001b[0m\u001b[1;33m.\u001b[0m\u001b[0mcolab\u001b[0m \u001b[1;32mimport\u001b[0m \u001b[0mdrive\u001b[0m\u001b[1;33m\u001b[0m\u001b[1;33m\u001b[0m\u001b[0m\n\u001b[0m\u001b[0;32m      4\u001b[0m \u001b[0mdrive\u001b[0m\u001b[1;33m.\u001b[0m\u001b[0mmount\u001b[0m\u001b[1;33m(\u001b[0m\u001b[1;34m'/content/drive'\u001b[0m\u001b[1;33m)\u001b[0m\u001b[1;33m\u001b[0m\u001b[1;33m\u001b[0m\u001b[0m\n",
      "\u001b[1;31mModuleNotFoundError\u001b[0m: No module named 'google'"
     ]
    }
   ],
   "source": [
    "import pandas as pd\n",
    "import numpy as np\n",
    "#from google.colab import drive\n",
    "#drive.mount('/content/drive')"
   ]
  },
  {
   "cell_type": "code",
   "execution_count": 12,
   "metadata": {
    "id": "u2nqKTTNNaj7"
   },
   "outputs": [],
   "source": [
    "data_bus= pd.read_csv('D:\\\\thuchanh\\\\data_pandas\\\\BusData.txt', sep=\"\\t\", header=None,names=[\"Data\", \"Address Start\", \"Day of week\",\"Time Start\", \"Time Duration\",\"Time Arrive\"])"
   ]
  },
  {
   "cell_type": "code",
   "execution_count": 13,
   "metadata": {
    "colab": {
     "base_uri": "https://localhost:8080/",
     "height": 667
    },
    "id": "IRSj7J7gyUMk",
    "outputId": "1c40feef-dad8-4ed0-bd37-ea322e9f5624"
   },
   "outputs": [
    {
     "data": {
      "text/html": [
       "<div>\n",
       "<style scoped>\n",
       "    .dataframe tbody tr th:only-of-type {\n",
       "        vertical-align: middle;\n",
       "    }\n",
       "\n",
       "    .dataframe tbody tr th {\n",
       "        vertical-align: top;\n",
       "    }\n",
       "\n",
       "    .dataframe thead th {\n",
       "        text-align: right;\n",
       "    }\n",
       "</style>\n",
       "<table border=\"1\" class=\"dataframe\">\n",
       "  <thead>\n",
       "    <tr style=\"text-align: right;\">\n",
       "      <th></th>\n",
       "      <th>Data</th>\n",
       "      <th>Address Start</th>\n",
       "      <th>Day of week</th>\n",
       "      <th>Time Start</th>\n",
       "      <th>Time Duration</th>\n",
       "      <th>Time Arrive</th>\n",
       "    </tr>\n",
       "  </thead>\n",
       "  <tbody>\n",
       "    <tr>\n",
       "      <th>0</th>\n",
       "      <td># 16.04.2018</td>\n",
       "      <td>NaN</td>\n",
       "      <td>NaN</td>\n",
       "      <td>NaN</td>\n",
       "      <td>NaN</td>\n",
       "      <td>NaN</td>\n",
       "    </tr>\n",
       "    <tr>\n",
       "      <th>1</th>\n",
       "      <td>U. Mon 12h05 13m55</td>\n",
       "      <td>NaN</td>\n",
       "      <td>NaN</td>\n",
       "      <td>NaN</td>\n",
       "      <td>NaN</td>\n",
       "      <td>NaN</td>\n",
       "    </tr>\n",
       "    <tr>\n",
       "      <th>2</th>\n",
       "      <td>H. Tue 08h36 14m19</td>\n",
       "      <td>NaN</td>\n",
       "      <td>NaN</td>\n",
       "      <td>NaN</td>\n",
       "      <td>NaN</td>\n",
       "      <td>NaN</td>\n",
       "    </tr>\n",
       "    <tr>\n",
       "      <th>3</th>\n",
       "      <td>U. Tue 15h05 14m14</td>\n",
       "      <td>NaN</td>\n",
       "      <td>NaN</td>\n",
       "      <td>NaN</td>\n",
       "      <td>NaN</td>\n",
       "      <td>NaN</td>\n",
       "    </tr>\n",
       "    <tr>\n",
       "      <th>4</th>\n",
       "      <td>H. Wed 06h41 14m48</td>\n",
       "      <td>NaN</td>\n",
       "      <td>NaN</td>\n",
       "      <td>NaN</td>\n",
       "      <td>NaN</td>\n",
       "      <td>NaN</td>\n",
       "    </tr>\n",
       "    <tr>\n",
       "      <th>5</th>\n",
       "      <td>U. Wed 10h12 13m04</td>\n",
       "      <td>NaN</td>\n",
       "      <td>NaN</td>\n",
       "      <td>NaN</td>\n",
       "      <td>NaN</td>\n",
       "      <td>NaN</td>\n",
       "    </tr>\n",
       "    <tr>\n",
       "      <th>6</th>\n",
       "      <td>H. Thu 06h40 13m19</td>\n",
       "      <td>NaN</td>\n",
       "      <td>NaN</td>\n",
       "      <td>NaN</td>\n",
       "      <td>NaN</td>\n",
       "      <td>NaN</td>\n",
       "    </tr>\n",
       "    <tr>\n",
       "      <th>7</th>\n",
       "      <td>U. Thu 11h19 13m04</td>\n",
       "      <td>NaN</td>\n",
       "      <td>NaN</td>\n",
       "      <td>NaN</td>\n",
       "      <td>NaN</td>\n",
       "      <td>NaN</td>\n",
       "    </tr>\n",
       "    <tr>\n",
       "      <th>8</th>\n",
       "      <td>H. Thu 12h56 13m04</td>\n",
       "      <td>NaN</td>\n",
       "      <td>NaN</td>\n",
       "      <td>NaN</td>\n",
       "      <td>NaN</td>\n",
       "      <td>NaN</td>\n",
       "    </tr>\n",
       "    <tr>\n",
       "      <th>9</th>\n",
       "      <td>H. Fri 08h45</td>\n",
       "      <td>NaN</td>\n",
       "      <td>NaN</td>\n",
       "      <td>NaN</td>\n",
       "      <td>NaN</td>\n",
       "      <td>NaN</td>\n",
       "    </tr>\n",
       "    <tr>\n",
       "      <th>10</th>\n",
       "      <td>U. Fri 11h57 13m19</td>\n",
       "      <td>NaN</td>\n",
       "      <td>NaN</td>\n",
       "      <td>NaN</td>\n",
       "      <td>NaN</td>\n",
       "      <td>NaN</td>\n",
       "    </tr>\n",
       "    <tr>\n",
       "      <th>11</th>\n",
       "      <td>H. Tue 08h46 15m32</td>\n",
       "      <td>NaN</td>\n",
       "      <td>NaN</td>\n",
       "      <td>NaN</td>\n",
       "      <td>NaN</td>\n",
       "      <td>NaN</td>\n",
       "    </tr>\n",
       "    <tr>\n",
       "      <th>12</th>\n",
       "      <td>H. Thu 12h58</td>\n",
       "      <td>NaN</td>\n",
       "      <td>NaN</td>\n",
       "      <td>NaN</td>\n",
       "      <td>NaN</td>\n",
       "      <td>NaN</td>\n",
       "    </tr>\n",
       "    <tr>\n",
       "      <th>13</th>\n",
       "      <td>H. Wed 06h41 14m24</td>\n",
       "      <td>NaN</td>\n",
       "      <td>NaN</td>\n",
       "      <td>NaN</td>\n",
       "      <td>NaN</td>\n",
       "      <td>NaN</td>\n",
       "    </tr>\n",
       "    <tr>\n",
       "      <th>14</th>\n",
       "      <td>U. Wed 10h25 13m06</td>\n",
       "      <td>NaN</td>\n",
       "      <td>NaN</td>\n",
       "      <td>NaN</td>\n",
       "      <td>NaN</td>\n",
       "      <td>NaN</td>\n",
       "    </tr>\n",
       "    <tr>\n",
       "      <th>15</th>\n",
       "      <td>H. Thu 06h43 13m20</td>\n",
       "      <td>NaN</td>\n",
       "      <td>NaN</td>\n",
       "      <td>NaN</td>\n",
       "      <td>NaN</td>\n",
       "      <td>NaN</td>\n",
       "    </tr>\n",
       "    <tr>\n",
       "      <th>16</th>\n",
       "      <td>H. Fri 08h23 14m03</td>\n",
       "      <td>NaN</td>\n",
       "      <td>NaN</td>\n",
       "      <td>NaN</td>\n",
       "      <td>NaN</td>\n",
       "      <td>NaN</td>\n",
       "    </tr>\n",
       "    <tr>\n",
       "      <th>17</th>\n",
       "      <td>U. Fri 18h25 16m53</td>\n",
       "      <td>NaN</td>\n",
       "      <td>NaN</td>\n",
       "      <td>NaN</td>\n",
       "      <td>NaN</td>\n",
       "      <td>NaN</td>\n",
       "    </tr>\n",
       "    <tr>\n",
       "      <th>18</th>\n",
       "      <td>H. Mon 08h27 13m42</td>\n",
       "      <td>NaN</td>\n",
       "      <td>NaN</td>\n",
       "      <td>NaN</td>\n",
       "      <td>NaN</td>\n",
       "      <td>NaN</td>\n",
       "    </tr>\n",
       "    <tr>\n",
       "      <th>19</th>\n",
       "      <td>H. Tue 08h50 12m25</td>\n",
       "      <td>NaN</td>\n",
       "      <td>NaN</td>\n",
       "      <td>NaN</td>\n",
       "      <td>NaN</td>\n",
       "      <td>NaN</td>\n",
       "    </tr>\n",
       "  </tbody>\n",
       "</table>\n",
       "</div>"
      ],
      "text/plain": [
       "                  Data  Address Start  Day of week  Time Start  Time Duration  \\\n",
       "0         # 16.04.2018            NaN          NaN         NaN            NaN   \n",
       "1   U. Mon 12h05 13m55            NaN          NaN         NaN            NaN   \n",
       "2   H. Tue 08h36 14m19            NaN          NaN         NaN            NaN   \n",
       "3   U. Tue 15h05 14m14            NaN          NaN         NaN            NaN   \n",
       "4   H. Wed 06h41 14m48            NaN          NaN         NaN            NaN   \n",
       "5   U. Wed 10h12 13m04            NaN          NaN         NaN            NaN   \n",
       "6   H. Thu 06h40 13m19            NaN          NaN         NaN            NaN   \n",
       "7   U. Thu 11h19 13m04            NaN          NaN         NaN            NaN   \n",
       "8   H. Thu 12h56 13m04            NaN          NaN         NaN            NaN   \n",
       "9        H. Fri 08h45             NaN          NaN         NaN            NaN   \n",
       "10  U. Fri 11h57 13m19            NaN          NaN         NaN            NaN   \n",
       "11  H. Tue 08h46 15m32            NaN          NaN         NaN            NaN   \n",
       "12       H. Thu 12h58             NaN          NaN         NaN            NaN   \n",
       "13  H. Wed 06h41 14m24            NaN          NaN         NaN            NaN   \n",
       "14  U. Wed 10h25 13m06            NaN          NaN         NaN            NaN   \n",
       "15  H. Thu 06h43 13m20            NaN          NaN         NaN            NaN   \n",
       "16  H. Fri 08h23 14m03            NaN          NaN         NaN            NaN   \n",
       "17  U. Fri 18h25 16m53            NaN          NaN         NaN            NaN   \n",
       "18  H. Mon 08h27 13m42            NaN          NaN         NaN            NaN   \n",
       "19  H. Tue 08h50 12m25            NaN          NaN         NaN            NaN   \n",
       "\n",
       "    Time Arrive  \n",
       "0           NaN  \n",
       "1           NaN  \n",
       "2           NaN  \n",
       "3           NaN  \n",
       "4           NaN  \n",
       "5           NaN  \n",
       "6           NaN  \n",
       "7           NaN  \n",
       "8           NaN  \n",
       "9           NaN  \n",
       "10          NaN  \n",
       "11          NaN  \n",
       "12          NaN  \n",
       "13          NaN  \n",
       "14          NaN  \n",
       "15          NaN  \n",
       "16          NaN  \n",
       "17          NaN  \n",
       "18          NaN  \n",
       "19          NaN  "
      ]
     },
     "execution_count": 13,
     "metadata": {},
     "output_type": "execute_result"
    }
   ],
   "source": [
    "data_bus.head(20)"
   ]
  },
  {
   "cell_type": "code",
   "execution_count": 14,
   "metadata": {
    "id": "R8u3chf-46Bc"
   },
   "outputs": [],
   "source": [
    "data_H = data_bus['Data'].astype(str).str.startswith('H.')\n",
    "data_U = data_bus['Data'].astype(str).str.startswith('U.')"
   ]
  },
  {
   "cell_type": "code",
   "execution_count": 15,
   "metadata": {
    "colab": {
     "base_uri": "https://localhost:8080/"
    },
    "id": "zy3EK_Mm1VYe",
    "outputId": "cb6b39fd-ae9e-4bdb-89e7-f9de7f27ceeb"
   },
   "outputs": [
    {
     "name": "stdout",
     "output_type": "stream",
     "text": [
      "                   Data  Address Start  Day of week  Time Start  \\\n",
      "0    U. Mon 12h05 13m55            NaN          NaN         NaN   \n",
      "1    H. Tue 08h36 14m19            NaN          NaN         NaN   \n",
      "2    U. Tue 15h05 14m14            NaN          NaN         NaN   \n",
      "3    H. Wed 06h41 14m48            NaN          NaN         NaN   \n",
      "4    U. Wed 10h12 13m04            NaN          NaN         NaN   \n",
      "..                  ...            ...          ...         ...   \n",
      "399  H. Mon. 09h48. . .            NaN          NaN         NaN   \n",
      "400  H. Tue. 12h26. . .            NaN          NaN         NaN   \n",
      "401  H. Thu. 06h40. . .            NaN          NaN         NaN   \n",
      "402  H. Fri. 09h30. . .            NaN          NaN         NaN   \n",
      "403  U. Fri. 12h06. . .            NaN          NaN         NaN   \n",
      "\n",
      "     Time Duration  Time Arrive  \n",
      "0              NaN          NaN  \n",
      "1              NaN          NaN  \n",
      "2              NaN          NaN  \n",
      "3              NaN          NaN  \n",
      "4              NaN          NaN  \n",
      "..             ...          ...  \n",
      "399            NaN          NaN  \n",
      "400            NaN          NaN  \n",
      "401            NaN          NaN  \n",
      "402            NaN          NaN  \n",
      "403            NaN          NaN  \n",
      "\n",
      "[404 rows x 6 columns]\n"
     ]
    }
   ],
   "source": [
    "data_clean = data_H | data_U\n",
    "# print(data_H, data_U)\n",
    "# print\n",
    "data_clean\n",
    "data = data_bus[data_clean]\n",
    "data = data.reset_index(drop=True)\n",
    "print(data)\n"
   ]
  },
  {
   "cell_type": "code",
   "execution_count": 16,
   "metadata": {
    "id": "DIs5fNrPCYvq"
   },
   "outputs": [],
   "source": [
    "def remove_char(x):\n",
    "  # print(x)\n",
    "  x = str(x)\n",
    "  x = x.replace('.', '')\n",
    "  return x\n"
   ]
  },
  {
   "cell_type": "code",
   "execution_count": 17,
   "metadata": {
    "id": "3Kg6X5_035B0"
   },
   "outputs": [],
   "source": [
    "data['Address Start'] = data['Data'].astype(str).str.split(\" \").str[0].apply(remove_char)\n",
    "data['Day of week'] = data['Data'].astype(str).str.split(\" \").str[1].apply(remove_char)\n",
    "data['Time Start'] = data['Data'].astype(str).str.split(\" \").str[2].apply(remove_char)\n",
    "data['Time Duration'] = data['Data'].astype(str).str.split(\" \").str[3].apply(remove_char)\n",
    "data['Time Arrive'] = data['Data'].astype(str).str.split(\" \").str[4].apply(remove_char)\n",
    "\n",
    "data = data.drop('Data', axis=1)\n",
    "\n",
    "data.loc[134, ['Time Start', 'Time Duration']] = \"06h42\", \"15m55\""
   ]
  },
  {
   "cell_type": "code",
   "execution_count": 29,
   "metadata": {
    "colab": {
     "base_uri": "https://localhost:8080/",
     "height": 265
    },
    "id": "L6k-uq5NuE7E",
    "outputId": "418515b6-6f43-4d73-f2f1-2f60775951fb"
   },
   "outputs": [
    {
     "data": {
      "text/html": [
       "<div>\n",
       "<style scoped>\n",
       "    .dataframe tbody tr th:only-of-type {\n",
       "        vertical-align: middle;\n",
       "    }\n",
       "\n",
       "    .dataframe tbody tr th {\n",
       "        vertical-align: top;\n",
       "    }\n",
       "\n",
       "    .dataframe thead th {\n",
       "        text-align: right;\n",
       "    }\n",
       "</style>\n",
       "<table border=\"1\" class=\"dataframe\">\n",
       "  <thead>\n",
       "    <tr style=\"text-align: right;\">\n",
       "      <th></th>\n",
       "      <th>Address Start</th>\n",
       "      <th>Day of week</th>\n",
       "      <th>Time Start</th>\n",
       "      <th>Time Duration</th>\n",
       "      <th>Time Arrive</th>\n",
       "    </tr>\n",
       "  </thead>\n",
       "  <tbody>\n",
       "    <tr>\n",
       "      <th>0</th>\n",
       "      <td>U</td>\n",
       "      <td>Mon</td>\n",
       "      <td>12h05</td>\n",
       "      <td>13m55</td>\n",
       "      <td>nan</td>\n",
       "    </tr>\n",
       "    <tr>\n",
       "      <th>1</th>\n",
       "      <td>H</td>\n",
       "      <td>Tue</td>\n",
       "      <td>08h36</td>\n",
       "      <td>14m19</td>\n",
       "      <td>nan</td>\n",
       "    </tr>\n",
       "    <tr>\n",
       "      <th>2</th>\n",
       "      <td>U</td>\n",
       "      <td>Tue</td>\n",
       "      <td>15h05</td>\n",
       "      <td>14m14</td>\n",
       "      <td>nan</td>\n",
       "    </tr>\n",
       "    <tr>\n",
       "      <th>3</th>\n",
       "      <td>H</td>\n",
       "      <td>Wed</td>\n",
       "      <td>06h41</td>\n",
       "      <td>14m48</td>\n",
       "      <td>nan</td>\n",
       "    </tr>\n",
       "    <tr>\n",
       "      <th>4</th>\n",
       "      <td>U</td>\n",
       "      <td>Wed</td>\n",
       "      <td>10h12</td>\n",
       "      <td>13m04</td>\n",
       "      <td>nan</td>\n",
       "    </tr>\n",
       "    <tr>\n",
       "      <th>...</th>\n",
       "      <td>...</td>\n",
       "      <td>...</td>\n",
       "      <td>...</td>\n",
       "      <td>...</td>\n",
       "      <td>...</td>\n",
       "    </tr>\n",
       "    <tr>\n",
       "      <th>399</th>\n",
       "      <td>H</td>\n",
       "      <td>Mon</td>\n",
       "      <td>09h48</td>\n",
       "      <td></td>\n",
       "      <td></td>\n",
       "    </tr>\n",
       "    <tr>\n",
       "      <th>400</th>\n",
       "      <td>H</td>\n",
       "      <td>Tue</td>\n",
       "      <td>12h26</td>\n",
       "      <td></td>\n",
       "      <td></td>\n",
       "    </tr>\n",
       "    <tr>\n",
       "      <th>401</th>\n",
       "      <td>H</td>\n",
       "      <td>Thu</td>\n",
       "      <td>06h40</td>\n",
       "      <td></td>\n",
       "      <td></td>\n",
       "    </tr>\n",
       "    <tr>\n",
       "      <th>402</th>\n",
       "      <td>H</td>\n",
       "      <td>Fri</td>\n",
       "      <td>09h30</td>\n",
       "      <td></td>\n",
       "      <td></td>\n",
       "    </tr>\n",
       "    <tr>\n",
       "      <th>403</th>\n",
       "      <td>U</td>\n",
       "      <td>Fri</td>\n",
       "      <td>12h06</td>\n",
       "      <td></td>\n",
       "      <td></td>\n",
       "    </tr>\n",
       "  </tbody>\n",
       "</table>\n",
       "<p>404 rows × 5 columns</p>\n",
       "</div>"
      ],
      "text/plain": [
       "    Address Start Day of week Time Start Time Duration Time Arrive\n",
       "0               U         Mon      12h05         13m55         nan\n",
       "1               H         Tue      08h36         14m19         nan\n",
       "2               U         Tue      15h05         14m14         nan\n",
       "3               H         Wed      06h41         14m48         nan\n",
       "4               U         Wed      10h12         13m04         nan\n",
       "..            ...         ...        ...           ...         ...\n",
       "399             H         Mon      09h48                          \n",
       "400             H         Tue      12h26                          \n",
       "401             H         Thu      06h40                          \n",
       "402             H         Fri      09h30                          \n",
       "403             U         Fri      12h06                          \n",
       "\n",
       "[404 rows x 5 columns]"
      ]
     },
     "execution_count": 29,
     "metadata": {},
     "output_type": "execute_result"
    }
   ],
   "source": [
    "#data.loc[130:136]\n",
    "data"
   ]
  },
  {
   "cell_type": "code",
   "execution_count": 30,
   "metadata": {},
   "outputs": [
    {
     "data": {
      "text/html": [
       "<div>\n",
       "<style scoped>\n",
       "    .dataframe tbody tr th:only-of-type {\n",
       "        vertical-align: middle;\n",
       "    }\n",
       "\n",
       "    .dataframe tbody tr th {\n",
       "        vertical-align: top;\n",
       "    }\n",
       "\n",
       "    .dataframe thead th {\n",
       "        text-align: right;\n",
       "    }\n",
       "</style>\n",
       "<table border=\"1\" class=\"dataframe\">\n",
       "  <thead>\n",
       "    <tr style=\"text-align: right;\">\n",
       "      <th></th>\n",
       "      <th>Address Start</th>\n",
       "      <th>Day of week</th>\n",
       "      <th>Time Start</th>\n",
       "      <th>Time Duration</th>\n",
       "      <th>Time Arrive</th>\n",
       "    </tr>\n",
       "  </thead>\n",
       "  <tbody>\n",
       "  </tbody>\n",
       "</table>\n",
       "</div>"
      ],
      "text/plain": [
       "Empty DataFrame\n",
       "Columns: [Address Start, Day of week, Time Start, Time Duration, Time Arrive]\n",
       "Index: []"
      ]
     },
     "execution_count": 30,
     "metadata": {},
     "output_type": "execute_result"
    }
   ],
   "source": [
    "xxx=data[data[\"Time Duration\"].isnull()]\n",
    "xxx.head(50)"
   ]
  },
  {
   "cell_type": "code",
   "execution_count": 31,
   "metadata": {
    "id": "LfmsRrhL4rxd"
   },
   "outputs": [],
   "source": [
    "def convert_data_time(x):\n",
    "  x = str(x)\n",
    "  if x != 'nan' and x!= '':\n",
    "    if x.find('m') == -1:\n",
    "      x = x + 'm00'\n",
    "    \n",
    "    if x.find('h') == -1:\n",
    "      x = '00h' + x\n",
    "    \n",
    "    return x\n",
    "  else:\n",
    "    return None\n",
    "\n",
    "\n",
    "\n"
   ]
  },
  {
   "cell_type": "code",
   "execution_count": 32,
   "metadata": {
    "colab": {
     "base_uri": "https://localhost:8080/"
    },
    "id": "JmcdrO3F5Uuo",
    "outputId": "f979972d-7591-4a38-8255-1eab05b2310b"
   },
   "outputs": [
    {
     "name": "stdout",
     "output_type": "stream",
     "text": [
      "    Address Start Day of week Time Start Time Duration Time Arrive\n",
      "0               U         Mon   12h05m00      00h13m55        None\n",
      "1               H         Tue   08h36m00      00h14m19        None\n",
      "2               U         Tue   15h05m00      00h14m14        None\n",
      "3               H         Wed   06h41m00      00h14m48        None\n",
      "4               U         Wed   10h12m00      00h13m04        None\n",
      "..            ...         ...        ...           ...         ...\n",
      "399             H         Mon   09h48m00          None        None\n",
      "400             H         Tue   12h26m00          None        None\n",
      "401             H         Thu   06h40m00          None        None\n",
      "402             H         Fri   09h30m00          None        None\n",
      "403             U         Fri   12h06m00          None        None\n",
      "\n",
      "[404 rows x 5 columns]\n"
     ]
    }
   ],
   "source": [
    "data['Time Start'] = data['Time Start'].apply(convert_data_time)\n",
    "data['Time Duration'] = data['Time Duration'].apply(convert_data_time)\n",
    "data['Time Arrive'] = data['Time Arrive'].apply(convert_data_time)\n",
    "print(data)"
   ]
  },
  {
   "cell_type": "code",
   "execution_count": 33,
   "metadata": {
    "id": "JkO2IwmvuSYi"
   },
   "outputs": [],
   "source": [
    "import datetime\n",
    "\n",
    "def convert_time_s(x):\n",
    "  x = str(x)\n",
    "  if x=='None':\n",
    "    return None\n",
    "\n",
    "  F1 = '%Hh%Mm%S'\n",
    "  time_object1 = datetime.datetime.strptime(x, F1)\n",
    "  dt1 = datetime.timedelta(hours=time_object1.hour,minutes=time_object1.minute, seconds=time_object1.second)\n",
    "\n",
    "  return dt1.seconds\n"
   ]
  },
  {
   "cell_type": "code",
   "execution_count": 34,
   "metadata": {
    "id": "4_0jij41vmgZ"
   },
   "outputs": [],
   "source": [
    "import math\n",
    "\n",
    "def convert_time_str(x):\n",
    "\n",
    "  if math.isnan(x):\n",
    "    return None\n",
    "  x = int(x)\n",
    "  hours = int(x/3600)\n",
    "  # print(hours)\n",
    "  minutes = int((x%3600)/60)  \n",
    "  # print(minutes)\n",
    "  seconds = int((x%3600)%60)\n",
    "  # print(seconds)\n",
    "  time_string = str(hours) + 'h' + str(minutes) + 'm' + str(seconds)\n",
    "  return time_string\n"
   ]
  },
  {
   "cell_type": "code",
   "execution_count": 35,
   "metadata": {
    "colab": {
     "base_uri": "https://localhost:8080/"
    },
    "id": "18Mq6EhYH7A-",
    "outputId": "5a71e745-7f3f-4055-f544-6e12c14fd57d"
   },
   "outputs": [
    {
     "name": "stdout",
     "output_type": "stream",
     "text": [
      "260    00h13m53\n",
      "261    00h13m48\n",
      "262    00h13m35\n",
      "263        None\n",
      "264     0h16m00\n",
      "265    00h12m03\n",
      "266    00h12m54\n",
      "267    00h14m11\n",
      "268    00h12m11\n",
      "269        None\n",
      "270     0h18m00\n",
      "271     0h13m00\n",
      "272    00h13m25\n",
      "273    00h13m35\n",
      "274    00h12m45\n",
      "275    00h13m41\n",
      "276    00h17m32\n",
      "277     0h13m00\n",
      "278    00h13m26\n",
      "279     0h17m00\n",
      "280    00h13m56\n",
      "Name: Time Duration, dtype: object\n",
      "   Time Arrive\n",
      "0     12h18m55\n",
      "1      8h50m19\n",
      "2     15h19m14\n",
      "3      6h55m48\n",
      "4     10h25m04\n",
      "5      6h53m19\n",
      "6     11h32m04\n",
      "7     13h09m04\n",
      "8         None\n",
      "9     12h10m19\n",
      "10     9h01m32\n",
      "11        None\n",
      "12     6h55m24\n",
      "13    10h38m06\n",
      "14     6h56m20\n",
      "15     8h37m03\n",
      "16    18h41m53\n",
      "17     8h40m42\n",
      "18     9h02m25\n",
      "19    16h02m20\n",
      "20     6h50m44\n"
     ]
    }
   ],
   "source": [
    "import datetime\n",
    "\n",
    "def cal_time(startTime, endTime, mode):\n",
    "  string_start = str(startTime)\n",
    "  string_end = str(endTime)\n",
    "  F1 = '%Hh%Mm%S'\n",
    "  time_object1 = datetime.datetime.strptime(string_start, F1)\n",
    "  time_object2 = datetime.datetime.strptime(string_end, F1)\n",
    "  dt1 = datetime.timedelta(hours=time_object1.hour,minutes=time_object1.minute, seconds=time_object1.second)\n",
    "  dt2 = datetime.timedelta(hours=time_object2.hour,minutes=time_object2.minute, seconds=time_object2.second)\n",
    "\n",
    "  if mode == 1:\n",
    "    stringTime = str(dt1 + dt2)\n",
    "  else:\n",
    "    stringTime = str(dt2 - dt1)\n",
    "  \n",
    "  stringTime = stringTime.replace(':', 'h', 1)\n",
    "  stringTime = stringTime.replace(':', 'm', 1)\n",
    "  return stringTime\n",
    "\n",
    "for i in range(len(data['Time Arrive'])):\n",
    "  # print(i, data.loc[i, 'Time Arrive'])\n",
    "  if data.loc[i, 'Time Arrive'] != None and data.loc[i, 'Time Start'] != None:\n",
    "    data.loc[i, 'Time Duration'] = cal_time(data.loc[i, 'Time Start'], data.loc[i, 'Time Arrive'], 0)\n",
    "print(data.loc[260:280, 'Time Duration'])\n",
    "for i in range(len(data['Time Arrive'])):\n",
    "  # print(i, data.loc[i, 'Time Arrive'])\n",
    "  if data.loc[i, 'Time Arrive'] == None :\n",
    "    if data.loc[i, 'Time Duration'] != None and data.loc[i, 'Time Start'] != None:\n",
    "      data.loc[i, 'Time Arrive'] = cal_time(data.loc[i, 'Time Start'], data.loc[i, 'Time Duration'], 1)\n",
    "print(data.loc[:20,['Time Arrive']])\n",
    "\n"
   ]
  },
  {
   "cell_type": "code",
   "execution_count": 36,
   "metadata": {
    "id": "Ud4Qje_Ae8vX"
   },
   "outputs": [],
   "source": [
    "def cal_time_s(time_):\n",
    "  \n",
    "  # print(time_str)\n",
    "  if time_ == None:\n",
    "    return None\n",
    "  else:\n",
    "    time_str = str(time_)\n",
    "    hours = int(time_str[:time_str.find('h')])\n",
    "    minutes = int(time_str[time_str.find('h')+ 1:time_str.find('m')])\n",
    "    seconds = int(time_str[time_str.find('m')+ 1:])\n",
    "    return hours*3600 + minutes*60 + seconds\n",
    "\n",
    "data['Time Duration'] = data['Time Duration'].apply(cal_time_s)\n",
    "# data['Time Duration'].head(20)"
   ]
  },
  {
   "cell_type": "code",
   "execution_count": 37,
   "metadata": {
    "colab": {
     "base_uri": "https://localhost:8080/",
     "height": 141
    },
    "id": "hQOs_OAar4eR",
    "outputId": "e5a7efe3-0169-4680-9cd2-a52cedc49a09"
   },
   "outputs": [
    {
     "data": {
      "text/html": [
       "<div>\n",
       "<style scoped>\n",
       "    .dataframe tbody tr th:only-of-type {\n",
       "        vertical-align: middle;\n",
       "    }\n",
       "\n",
       "    .dataframe tbody tr th {\n",
       "        vertical-align: top;\n",
       "    }\n",
       "\n",
       "    .dataframe thead th {\n",
       "        text-align: right;\n",
       "    }\n",
       "</style>\n",
       "<table border=\"1\" class=\"dataframe\">\n",
       "  <thead>\n",
       "    <tr style=\"text-align: right;\">\n",
       "      <th></th>\n",
       "      <th>Time Duration</th>\n",
       "    </tr>\n",
       "    <tr>\n",
       "      <th>Address Start</th>\n",
       "      <th></th>\n",
       "    </tr>\n",
       "  </thead>\n",
       "  <tbody>\n",
       "    <tr>\n",
       "      <th>H</th>\n",
       "      <td>882.097744</td>\n",
       "    </tr>\n",
       "    <tr>\n",
       "      <th>U</th>\n",
       "      <td>893.967033</td>\n",
       "    </tr>\n",
       "  </tbody>\n",
       "</table>\n",
       "</div>"
      ],
      "text/plain": [
       "               Time Duration\n",
       "Address Start               \n",
       "H                 882.097744\n",
       "U                 893.967033"
      ]
     },
     "execution_count": 37,
     "metadata": {},
     "output_type": "execute_result"
    }
   ],
   "source": [
    "data.groupby('Address Start').agg('mean')"
   ]
  },
  {
   "cell_type": "code",
   "execution_count": 38,
   "metadata": {
    "colab": {
     "base_uri": "https://localhost:8080/"
    },
    "id": "ZEVupATZs15H",
    "outputId": "f7fc5d2c-4f0c-41d3-84c2-7cb8cc94d395"
   },
   "outputs": [
    {
     "data": {
      "text/plain": [
       "Day of week\n",
       "Fri    0h14m37\n",
       "Mon     0h14m5\n",
       "Sat    0h14m35\n",
       "Sun     0h14m6\n",
       "Thu    0h15m15\n",
       "Tue    0h14m34\n",
       "Wed    0h15m21\n",
       "Name: Time Duration, dtype: object"
      ]
     },
     "execution_count": 38,
     "metadata": {},
     "output_type": "execute_result"
    }
   ],
   "source": [
    "data_dur = data.groupby('Day of week').agg('mean')\n",
    "data_dura = data_dur['Time Duration'].apply(convert_time_str)\n",
    "data_dura"
   ]
  },
  {
   "cell_type": "markdown",
   "metadata": {
    "id": "2U8lqe40uS2x"
   },
   "source": [
    "**Giờ xuất phát và về theo các ngày trong tuần**"
   ]
  },
  {
   "cell_type": "code",
   "execution_count": 39,
   "metadata": {
    "colab": {
     "base_uri": "https://localhost:8080/"
    },
    "id": "jgU9_ePFdZkj",
    "outputId": "e52da35c-496b-4c2e-a7fe-2416b3ae33fc"
   },
   "outputs": [
    {
     "data": {
      "text/plain": [
       "Address Start  Day of week\n",
       "H              Fri               8h2m7\n",
       "               Mon             7h49m48\n",
       "               Sat              9h49m6\n",
       "               Sun            10h32m15\n",
       "               Thu              9h1m58\n",
       "               Tue              8h7m40\n",
       "               Wed             8h51m33\n",
       "U              Fri             12h9m45\n",
       "               Mon             12h2m13\n",
       "               Sat            13h26m34\n",
       "               Sun             13h40m0\n",
       "               Thu            13h47m26\n",
       "               Tue            12h30m40\n",
       "               Wed             13h53m7\n",
       "Name: Temp Time Start, dtype: object"
      ]
     },
     "execution_count": 39,
     "metadata": {},
     "output_type": "execute_result"
    }
   ],
   "source": [
    "data['Temp Time Start'] = data['Time Start'].apply(convert_time_s)\n",
    "data_ar = data.groupby(['Address Start', 'Day of week']).agg('mean')\n",
    "data_ara = data_ar['Temp Time Start'].apply(convert_time_str)\n",
    "data_ara"
   ]
  },
  {
   "cell_type": "markdown",
   "metadata": {
    "id": "poQK7YipucF9"
   },
   "source": [
    "**Giờ trung bình xuất phát và về trong ngày**"
   ]
  },
  {
   "cell_type": "code",
   "execution_count": 40,
   "metadata": {
    "colab": {
     "base_uri": "https://localhost:8080/"
    },
    "id": "o4Ka4lMF_N-5",
    "outputId": "d8b2d349-4f4f-41f8-b96a-fbc88edc34a9"
   },
   "outputs": [
    {
     "data": {
      "text/plain": [
       "Address Start\n",
       "H     8h31m14\n",
       "U    12h53m32\n",
       "Name: Temp Time Start, dtype: object"
      ]
     },
     "execution_count": 40,
     "metadata": {},
     "output_type": "execute_result"
    }
   ],
   "source": [
    "data_y = data.groupby('Address Start').agg('mean')\n",
    "data_y['Temp Time Start'].apply(convert_time_str)"
   ]
  },
  {
   "cell_type": "code",
   "execution_count": null,
   "metadata": {},
   "outputs": [],
   "source": []
  }
 ],
 "metadata": {
  "colab": {
   "collapsed_sections": [],
   "name": "Assigment01.ipynb",
   "provenance": []
  },
  "kernelspec": {
   "display_name": "Python 3",
   "language": "python",
   "name": "python3"
  },
  "language_info": {
   "codemirror_mode": {
    "name": "ipython",
    "version": 3
   },
   "file_extension": ".py",
   "mimetype": "text/x-python",
   "name": "python",
   "nbconvert_exporter": "python",
   "pygments_lexer": "ipython3",
   "version": "3.8.3"
  }
 },
 "nbformat": 4,
 "nbformat_minor": 1
}
