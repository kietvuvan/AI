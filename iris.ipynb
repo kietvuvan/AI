{
  "nbformat": 4,
  "nbformat_minor": 0,
  "metadata": {
    "colab": {
      "name": "iris.ipynb",
      "provenance": [],
      "collapsed_sections": [],
      "authorship_tag": "ABX9TyOpkqlqTKofn2VFW8HUakdK",
      "include_colab_link": true
    },
    "kernelspec": {
      "name": "python3",
      "display_name": "Python 3"
    },
    "language_info": {
      "name": "python"
    }
  },
  "cells": [
    {
      "cell_type": "markdown",
      "metadata": {
        "id": "view-in-github",
        "colab_type": "text"
      },
      "source": [
        "<a href=\"https://colab.research.google.com/github/kietvuvan/AI/blob/master/iris.ipynb\" target=\"_parent\"><img src=\"https://colab.research.google.com/assets/colab-badge.svg\" alt=\"Open In Colab\"/></a>"
      ]
    },
    {
      "cell_type": "code",
      "metadata": {
        "id": "1OgF5yAM71Cl"
      },
      "source": [
        "import numpy as np\n",
        "from sklearn import neighbors,datasets\n",
        "from sklearn.model_selection import train_test_split\n",
        "from sklearn.metrics import accuracy_score, precision_score, recall_score"
      ],
      "execution_count": 14,
      "outputs": []
    },
    {
      "cell_type": "code",
      "metadata": {
        "id": "DJR0xjmO82qy"
      },
      "source": [
        "\n",
        "iris_flower=datasets.load_iris()\n",
        "X=iris_flower.data\n",
        "y=iris_flower.target"
      ],
      "execution_count": 15,
      "outputs": []
    },
    {
      "cell_type": "code",
      "metadata": {
        "colab": {
          "base_uri": "https://localhost:8080/"
        },
        "id": "7FFjtnGPBW4T",
        "outputId": "c8159f73-956e-462f-ea76-b82021113b84"
      },
      "source": [
        "print(y)"
      ],
      "execution_count": 16,
      "outputs": [
        {
          "output_type": "stream",
          "text": [
            "[0 0 0 0 0 0 0 0 0 0 0 0 0 0 0 0 0 0 0 0 0 0 0 0 0 0 0 0 0 0 0 0 0 0 0 0 0\n",
            " 0 0 0 0 0 0 0 0 0 0 0 0 0 1 1 1 1 1 1 1 1 1 1 1 1 1 1 1 1 1 1 1 1 1 1 1 1\n",
            " 1 1 1 1 1 1 1 1 1 1 1 1 1 1 1 1 1 1 1 1 1 1 1 1 1 1 2 2 2 2 2 2 2 2 2 2 2\n",
            " 2 2 2 2 2 2 2 2 2 2 2 2 2 2 2 2 2 2 2 2 2 2 2 2 2 2 2 2 2 2 2 2 2 2 2 2 2\n",
            " 2 2]\n"
          ],
          "name": "stdout"
        }
      ]
    },
    {
      "cell_type": "code",
      "metadata": {
        "colab": {
          "base_uri": "https://localhost:8080/"
        },
        "id": "K2rOmqQOCAzm",
        "outputId": "9e753af6-69ab-459e-a49c-7daaca60c4ec"
      },
      "source": [
        "print(X.shape)"
      ],
      "execution_count": 17,
      "outputs": [
        {
          "output_type": "stream",
          "text": [
            "(150, 4)\n"
          ],
          "name": "stdout"
        }
      ]
    },
    {
      "cell_type": "code",
      "metadata": {
        "id": "79ZFQ2TLB1vz"
      },
      "source": [
        "rand=np.arange(X.shape[0])\n",
        "np.random.shuffle(rand)"
      ],
      "execution_count": 18,
      "outputs": []
    },
    {
      "cell_type": "code",
      "metadata": {
        "id": "jwA6ngh5Cb4T"
      },
      "source": [
        "X=X[rand]\n",
        "y=y[rand]"
      ],
      "execution_count": 19,
      "outputs": []
    },
    {
      "cell_type": "code",
      "metadata": {
        "colab": {
          "base_uri": "https://localhost:8080/"
        },
        "id": "XdnH5cPUCjaE",
        "outputId": "d7812362-ffdb-4a22-828a-5adf81e456ca"
      },
      "source": [
        "print(y)"
      ],
      "execution_count": 20,
      "outputs": [
        {
          "output_type": "stream",
          "text": [
            "[1 2 2 1 1 0 2 1 1 1 0 2 2 0 0 2 2 1 2 2 2 1 1 2 2 2 1 1 2 2 2 1 0 1 1 0 0\n",
            " 2 2 0 0 0 1 0 2 0 1 0 0 0 2 0 0 1 2 2 1 1 0 2 1 1 1 0 0 1 0 0 2 0 2 1 1 0\n",
            " 1 0 2 1 0 1 1 0 1 0 1 2 0 2 2 1 2 1 2 0 0 1 2 2 2 2 0 1 2 2 2 1 0 0 1 2 0\n",
            " 0 2 1 0 0 0 0 0 2 2 1 1 0 0 1 0 0 2 0 1 2 1 0 2 2 2 1 1 1 1 2 0 0 1 1 0 1\n",
            " 2 2]\n"
          ],
          "name": "stdout"
        }
      ]
    },
    {
      "cell_type": "code",
      "metadata": {
        "id": "b0V-F39pC0nI"
      },
      "source": [
        "X_train_1,X_test_1,y_train_1,y_test_1=train_test_split(X,y,test_size=30)\n",
        "X_train_2,X_test_2,y_train_2,y_test_2=train_test_split(X,y,test_size=60)"
      ],
      "execution_count": 21,
      "outputs": []
    },
    {
      "cell_type": "code",
      "metadata": {
        "colab": {
          "base_uri": "https://localhost:8080/"
        },
        "id": "jGIQVTfeDj_K",
        "outputId": "f5af680f-f377-41a5-974f-9410b359371e"
      },
      "source": [
        "print(X_train_1.shape[0],y_train_1.shape[0])"
      ],
      "execution_count": 22,
      "outputs": [
        {
          "output_type": "stream",
          "text": [
            "120 120\n"
          ],
          "name": "stdout"
        }
      ]
    },
    {
      "cell_type": "markdown",
      "metadata": {
        "id": "kk03BhQSNjaH"
      },
      "source": [
        "\n",
        "dùng K=6\n",
        "\n",
        "\n"
      ]
    },
    {
      "cell_type": "code",
      "metadata": {
        "id": "uTmLo8v_D2RA"
      },
      "source": [
        "model_1=neighbors.KNeighborsClassifier(n_neighbors=6)\n",
        "model_1.fit(X_train_1,y_train_1)\n",
        "y_predict_1=model_1.predict(X_test_1)"
      ],
      "execution_count": 23,
      "outputs": []
    },
    {
      "cell_type": "code",
      "metadata": {
        "id": "wtUYaIvWKwEf"
      },
      "source": [
        "model_2=neighbors.KNeighborsClassifier(n_neighbors=6)\n",
        "model_2.fit(X_train_2,y_train_2)\n",
        "y_predict_2=model_2.predict(X_test_2)"
      ],
      "execution_count": 24,
      "outputs": []
    },
    {
      "cell_type": "code",
      "metadata": {
        "colab": {
          "base_uri": "https://localhost:8080/"
        },
        "id": "kK6SeYkYGwxz",
        "outputId": "41d3a0aa-ebaa-4512-dc55-29b08de0d269"
      },
      "source": [
        "accuracy_1=accuracy_score(y_test_1,y_predict_1)\n",
        "print(accuracy_1)\n",
        "recall_1=recall_score(y_test_1,y_predict_1,average=None)\n",
        "print(recall_1)\n",
        "precision_1=precision_score(y_test_1,y_predict_1,average=None)\n",
        "print(precision_1)"
      ],
      "execution_count": 25,
      "outputs": [
        {
          "output_type": "stream",
          "text": [
            "0.9666666666666667\n",
            "[1.         0.90909091 1.        ]\n",
            "[1.         1.         0.90909091]\n"
          ],
          "name": "stdout"
        }
      ]
    },
    {
      "cell_type": "code",
      "metadata": {
        "colab": {
          "base_uri": "https://localhost:8080/"
        },
        "id": "tvytuUbOK3uI",
        "outputId": "0be3ee25-3f66-43f4-bc66-548533626d91"
      },
      "source": [
        "accuracy_2=accuracy_score(y_test_2,y_predict_2)\n",
        "print(accuracy_2)\n",
        "recall_2=recall_score(y_test_2,y_predict_2,average=None)\n",
        "print(recall_2)\n",
        "precision_2=precision_score(y_test_2,y_predict_2,average=None)\n",
        "print(precision_2)"
      ],
      "execution_count": 26,
      "outputs": [
        {
          "output_type": "stream",
          "text": [
            "0.9833333333333333\n",
            "[1.         0.95454545 1.        ]\n",
            "[1.         1.         0.94117647]\n"
          ],
          "name": "stdout"
        }
      ]
    },
    {
      "cell_type": "markdown",
      "metadata": {
        "id": "5byvWTWELZB4"
      },
      "source": [
        "Nhận xét:recall và precision của loại đầu luôn cho kết quả cao nhất\n"
      ]
    }
  ]
}